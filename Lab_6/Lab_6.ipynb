{
 "cells": [
  {
   "attachments": {},
   "cell_type": "markdown",
   "metadata": {},
   "source": [
    "# Lab 6 -  Model comparison\n",
    "\n",
    "In this excercise we will learn about comparing models using metrics predicting out of sample behavior.\n",
    "\n",
    "Main idea is to instead of splitting the dataset into two parts (test and training set) to estimate how model would behave in presence of new data.\n",
    "This is being done by evaluating so called *log likelihood* which is an array of values of logarithm of likelihood for each of datapoints individually.\n",
    "\n",
    "We will use this informations with two metrics:\n",
    "- Watanabe-Akaike Information Criterion (also known as Widely Applicable Information Criterion, WAIC), which is averages log likelihood and estimates the effective number of paraemeters in the model\n",
    "- PSIS-LOOCV - Pareto Smoothed Importance Sampling Leave-one-out Cross Validation. It is an estimate of value obtained from Leave-one-out Cross Validation by using modified importance sampling method instead of running inference N times where N is number of samples, leaving one each time. \n",
    "\n",
    "For this excercise code is provided in form of print-screens. \n"
   ]
  },
  {
   "cell_type": "code",
   "execution_count": 1,
   "metadata": {},
   "outputs": [
    {
     "name": "stderr",
     "output_type": "stream",
     "text": [
      "/usr/local/lib/python3.9/site-packages/tqdm/auto.py:22: TqdmWarning: IProgress not found. Please update jupyter and ipywidgets. See https://ipywidgets.readthedocs.io/en/stable/user_install.html\n",
      "  from .autonotebook import tqdm as notebook_tqdm\n"
     ]
    }
   ],
   "source": [
    "from cmdstanpy import CmdStanModel\n",
    "\n",
    "import arviz as az\n",
    "import numpy as np\n",
    "import scipy.stats as stats\n",
    "\n",
    "import matplotlib.pyplot as plt\n",
    "import pandas as pd"
   ]
  },
  {
   "cell_type": "code",
   "execution_count": 2,
   "metadata": {},
   "outputs": [],
   "source": [
    "F = len(\"Rafal\")\n",
    "L = len(\"Guzek\")\n",
    "N = (L + F) * 100"
   ]
  },
  {
   "attachments": {},
   "cell_type": "markdown",
   "metadata": {},
   "source": [
    "### Exercise 1 - generate data"
   ]
  },
  {
   "cell_type": "code",
   "execution_count": 3,
   "metadata": {},
   "outputs": [
    {
     "name": "stderr",
     "output_type": "stream",
     "text": [
      "INFO:cmdstanpy:found newer exe file, not recompiling\n",
      "INFO:cmdstanpy:CmdStan start processing\n",
      "chain 1 |\u001b[34m██████████\u001b[0m| 00:00 Sampling completed                      "
     ]
    },
    {
     "name": "stdout",
     "output_type": "stream",
     "text": [
      "                                                                                "
     ]
    },
    {
     "name": "stderr",
     "output_type": "stream",
     "text": [
      "\n",
      "INFO:cmdstanpy:CmdStan done processing.\n"
     ]
    },
    {
     "name": "stdout",
     "output_type": "stream",
     "text": [
      "\n"
     ]
    }
   ],
   "source": [
    "model_1=CmdStanModel(stan_file='code_1.stan')\n",
    "\n",
    "data_N = dict(N=N)\n",
    "sim_1=model_1.sample(data=data_N,\n",
    "                     iter_warmup=0,\n",
    "                     chains=1,\n",
    "                     fixed_param=True,\n",
    "                     seed=29042020)"
   ]
  },
  {
   "cell_type": "code",
   "execution_count": 4,
   "metadata": {},
   "outputs": [
    {
     "name": "stderr",
     "output_type": "stream",
     "text": [
      "INFO:cmdstanpy:found newer exe file, not recompiling\n",
      "INFO:cmdstanpy:CmdStan start processing\n",
      "chain 1 |\u001b[34m██████████\u001b[0m| 00:01 Sampling completed                      "
     ]
    },
    {
     "name": "stdout",
     "output_type": "stream",
     "text": [
      "                                                                                "
     ]
    },
    {
     "name": "stderr",
     "output_type": "stream",
     "text": [
      "\n",
      "INFO:cmdstanpy:CmdStan done processing.\n"
     ]
    },
    {
     "name": "stdout",
     "output_type": "stream",
     "text": [
      "\n"
     ]
    }
   ],
   "source": [
    "model_2=CmdStanModel(stan_file='code_2.stan')\n",
    "\n",
    "sim_2=model_2.sample(data=data_N,\n",
    "                     iter_warmup=0,\n",
    "                     chains=1,\n",
    "                     fixed_param=True,\n",
    "                     seed=29042020)"
   ]
  },
  {
   "cell_type": "code",
   "execution_count": 5,
   "metadata": {},
   "outputs": [],
   "source": [
    "data1_df = sim_1.draws_pd()\n",
    "data2_df = sim_2.draws_pd()"
   ]
  },
  {
   "cell_type": "code",
   "execution_count": 6,
   "metadata": {},
   "outputs": [
    {
     "data": {
      "text/html": [
       "<div>\n",
       "<style scoped>\n",
       "    .dataframe tbody tr th:only-of-type {\n",
       "        vertical-align: middle;\n",
       "    }\n",
       "\n",
       "    .dataframe tbody tr th {\n",
       "        vertical-align: top;\n",
       "    }\n",
       "\n",
       "    .dataframe thead th {\n",
       "        text-align: right;\n",
       "    }\n",
       "</style>\n",
       "<table border=\"1\" class=\"dataframe\">\n",
       "  <thead>\n",
       "    <tr style=\"text-align: right;\">\n",
       "      <th></th>\n",
       "      <th>lp__</th>\n",
       "      <th>accept_stat__</th>\n",
       "      <th>theta</th>\n",
       "      <th>y[1]</th>\n",
       "      <th>y[2]</th>\n",
       "      <th>y[3]</th>\n",
       "      <th>y[4]</th>\n",
       "      <th>y[5]</th>\n",
       "      <th>y[6]</th>\n",
       "      <th>y[7]</th>\n",
       "      <th>...</th>\n",
       "      <th>y[991]</th>\n",
       "      <th>y[992]</th>\n",
       "      <th>y[993]</th>\n",
       "      <th>y[994]</th>\n",
       "      <th>y[995]</th>\n",
       "      <th>y[996]</th>\n",
       "      <th>y[997]</th>\n",
       "      <th>y[998]</th>\n",
       "      <th>y[999]</th>\n",
       "      <th>y[1000]</th>\n",
       "    </tr>\n",
       "  </thead>\n",
       "  <tbody>\n",
       "    <tr>\n",
       "      <th>0</th>\n",
       "      <td>0.0</td>\n",
       "      <td>0.0</td>\n",
       "      <td>0.01</td>\n",
       "      <td>-0.424502</td>\n",
       "      <td>-0.063661</td>\n",
       "      <td>-0.833885</td>\n",
       "      <td>1.551580</td>\n",
       "      <td>-0.362245</td>\n",
       "      <td>0.743487</td>\n",
       "      <td>0.970844</td>\n",
       "      <td>...</td>\n",
       "      <td>-0.419821</td>\n",
       "      <td>0.510223</td>\n",
       "      <td>-0.055905</td>\n",
       "      <td>0.800251</td>\n",
       "      <td>-1.655780</td>\n",
       "      <td>1.039720</td>\n",
       "      <td>1.156010</td>\n",
       "      <td>1.056100</td>\n",
       "      <td>1.048080</td>\n",
       "      <td>-0.668507</td>\n",
       "    </tr>\n",
       "    <tr>\n",
       "      <th>1</th>\n",
       "      <td>0.0</td>\n",
       "      <td>0.0</td>\n",
       "      <td>0.01</td>\n",
       "      <td>0.691707</td>\n",
       "      <td>-0.718324</td>\n",
       "      <td>1.510380</td>\n",
       "      <td>-0.515844</td>\n",
       "      <td>-0.759546</td>\n",
       "      <td>0.823583</td>\n",
       "      <td>-1.203840</td>\n",
       "      <td>...</td>\n",
       "      <td>-0.151676</td>\n",
       "      <td>-0.139082</td>\n",
       "      <td>0.581032</td>\n",
       "      <td>-0.161371</td>\n",
       "      <td>-0.744724</td>\n",
       "      <td>-0.440833</td>\n",
       "      <td>0.770468</td>\n",
       "      <td>-0.245155</td>\n",
       "      <td>-0.692138</td>\n",
       "      <td>0.457749</td>\n",
       "    </tr>\n",
       "    <tr>\n",
       "      <th>2</th>\n",
       "      <td>0.0</td>\n",
       "      <td>0.0</td>\n",
       "      <td>0.01</td>\n",
       "      <td>0.454723</td>\n",
       "      <td>0.553359</td>\n",
       "      <td>-0.858150</td>\n",
       "      <td>0.623616</td>\n",
       "      <td>0.170166</td>\n",
       "      <td>-0.984149</td>\n",
       "      <td>-0.441384</td>\n",
       "      <td>...</td>\n",
       "      <td>-1.227770</td>\n",
       "      <td>4.536370</td>\n",
       "      <td>0.846926</td>\n",
       "      <td>-0.978754</td>\n",
       "      <td>-0.689286</td>\n",
       "      <td>1.996560</td>\n",
       "      <td>-0.463004</td>\n",
       "      <td>1.485180</td>\n",
       "      <td>1.273640</td>\n",
       "      <td>1.266120</td>\n",
       "    </tr>\n",
       "    <tr>\n",
       "      <th>3</th>\n",
       "      <td>0.0</td>\n",
       "      <td>0.0</td>\n",
       "      <td>0.01</td>\n",
       "      <td>-0.419475</td>\n",
       "      <td>-1.141710</td>\n",
       "      <td>0.318598</td>\n",
       "      <td>-0.025358</td>\n",
       "      <td>0.357122</td>\n",
       "      <td>-0.721668</td>\n",
       "      <td>0.014098</td>\n",
       "      <td>...</td>\n",
       "      <td>-0.544827</td>\n",
       "      <td>-0.023012</td>\n",
       "      <td>-0.384155</td>\n",
       "      <td>-0.073107</td>\n",
       "      <td>1.208040</td>\n",
       "      <td>1.561990</td>\n",
       "      <td>0.206984</td>\n",
       "      <td>-1.412740</td>\n",
       "      <td>-0.303845</td>\n",
       "      <td>-0.111587</td>\n",
       "    </tr>\n",
       "    <tr>\n",
       "      <th>4</th>\n",
       "      <td>0.0</td>\n",
       "      <td>0.0</td>\n",
       "      <td>0.01</td>\n",
       "      <td>-1.087330</td>\n",
       "      <td>-0.518329</td>\n",
       "      <td>-0.659032</td>\n",
       "      <td>2.376360</td>\n",
       "      <td>-0.239320</td>\n",
       "      <td>0.112092</td>\n",
       "      <td>-0.412680</td>\n",
       "      <td>...</td>\n",
       "      <td>0.876384</td>\n",
       "      <td>0.827360</td>\n",
       "      <td>-0.654178</td>\n",
       "      <td>-1.051340</td>\n",
       "      <td>0.073445</td>\n",
       "      <td>2.634920</td>\n",
       "      <td>0.305851</td>\n",
       "      <td>-0.159827</td>\n",
       "      <td>0.017941</td>\n",
       "      <td>-0.666121</td>\n",
       "    </tr>\n",
       "  </tbody>\n",
       "</table>\n",
       "<p>5 rows × 1003 columns</p>\n",
       "</div>"
      ],
      "text/plain": [
       "   lp__  accept_stat__  theta      y[1]      y[2]      y[3]      y[4]  \\\n",
       "0   0.0            0.0   0.01 -0.424502 -0.063661 -0.833885  1.551580   \n",
       "1   0.0            0.0   0.01  0.691707 -0.718324  1.510380 -0.515844   \n",
       "2   0.0            0.0   0.01  0.454723  0.553359 -0.858150  0.623616   \n",
       "3   0.0            0.0   0.01 -0.419475 -1.141710  0.318598 -0.025358   \n",
       "4   0.0            0.0   0.01 -1.087330 -0.518329 -0.659032  2.376360   \n",
       "\n",
       "       y[5]      y[6]      y[7]  ...    y[991]    y[992]    y[993]    y[994]  \\\n",
       "0 -0.362245  0.743487  0.970844  ... -0.419821  0.510223 -0.055905  0.800251   \n",
       "1 -0.759546  0.823583 -1.203840  ... -0.151676 -0.139082  0.581032 -0.161371   \n",
       "2  0.170166 -0.984149 -0.441384  ... -1.227770  4.536370  0.846926 -0.978754   \n",
       "3  0.357122 -0.721668  0.014098  ... -0.544827 -0.023012 -0.384155 -0.073107   \n",
       "4 -0.239320  0.112092 -0.412680  ...  0.876384  0.827360 -0.654178 -1.051340   \n",
       "\n",
       "     y[995]    y[996]    y[997]    y[998]    y[999]   y[1000]  \n",
       "0 -1.655780  1.039720  1.156010  1.056100  1.048080 -0.668507  \n",
       "1 -0.744724 -0.440833  0.770468 -0.245155 -0.692138  0.457749  \n",
       "2 -0.689286  1.996560 -0.463004  1.485180  1.273640  1.266120  \n",
       "3  1.208040  1.561990  0.206984 -1.412740 -0.303845 -0.111587  \n",
       "4  0.073445  2.634920  0.305851 -0.159827  0.017941 -0.666121  \n",
       "\n",
       "[5 rows x 1003 columns]"
      ]
     },
     "execution_count": 6,
     "metadata": {},
     "output_type": "execute_result"
    }
   ],
   "source": [
    "data1_df.head()"
   ]
  },
  {
   "cell_type": "code",
   "execution_count": 7,
   "metadata": {},
   "outputs": [
    {
     "data": {
      "text/html": [
       "<div>\n",
       "<style scoped>\n",
       "    .dataframe tbody tr th:only-of-type {\n",
       "        vertical-align: middle;\n",
       "    }\n",
       "\n",
       "    .dataframe tbody tr th {\n",
       "        vertical-align: top;\n",
       "    }\n",
       "\n",
       "    .dataframe thead th {\n",
       "        text-align: right;\n",
       "    }\n",
       "</style>\n",
       "<table border=\"1\" class=\"dataframe\">\n",
       "  <thead>\n",
       "    <tr style=\"text-align: right;\">\n",
       "      <th></th>\n",
       "      <th>lp__</th>\n",
       "      <th>accept_stat__</th>\n",
       "      <th>X[1,1]</th>\n",
       "      <th>X[2,1]</th>\n",
       "      <th>X[3,1]</th>\n",
       "      <th>X[4,1]</th>\n",
       "      <th>X[5,1]</th>\n",
       "      <th>X[6,1]</th>\n",
       "      <th>X[7,1]</th>\n",
       "      <th>X[8,1]</th>\n",
       "      <th>...</th>\n",
       "      <th>y[991]</th>\n",
       "      <th>y[992]</th>\n",
       "      <th>y[993]</th>\n",
       "      <th>y[994]</th>\n",
       "      <th>y[995]</th>\n",
       "      <th>y[996]</th>\n",
       "      <th>y[997]</th>\n",
       "      <th>y[998]</th>\n",
       "      <th>y[999]</th>\n",
       "      <th>y[1000]</th>\n",
       "    </tr>\n",
       "  </thead>\n",
       "  <tbody>\n",
       "    <tr>\n",
       "      <th>0</th>\n",
       "      <td>0.0</td>\n",
       "      <td>0.0</td>\n",
       "      <td>2.708170</td>\n",
       "      <td>0.777181</td>\n",
       "      <td>-1.272270</td>\n",
       "      <td>0.127591</td>\n",
       "      <td>-1.389420</td>\n",
       "      <td>0.246162</td>\n",
       "      <td>1.198730</td>\n",
       "      <td>2.265330</td>\n",
       "      <td>...</td>\n",
       "      <td>2.434840</td>\n",
       "      <td>-1.690430</td>\n",
       "      <td>-1.11724</td>\n",
       "      <td>1.018020</td>\n",
       "      <td>-3.209390</td>\n",
       "      <td>0.647371</td>\n",
       "      <td>-1.979340</td>\n",
       "      <td>-0.181075</td>\n",
       "      <td>-3.39436</td>\n",
       "      <td>-0.348991</td>\n",
       "    </tr>\n",
       "    <tr>\n",
       "      <th>1</th>\n",
       "      <td>0.0</td>\n",
       "      <td>0.0</td>\n",
       "      <td>1.719960</td>\n",
       "      <td>-1.233320</td>\n",
       "      <td>-2.029110</td>\n",
       "      <td>-0.255109</td>\n",
       "      <td>-0.254564</td>\n",
       "      <td>-0.802033</td>\n",
       "      <td>-1.179080</td>\n",
       "      <td>0.642103</td>\n",
       "      <td>...</td>\n",
       "      <td>0.281867</td>\n",
       "      <td>-0.194551</td>\n",
       "      <td>-0.04624</td>\n",
       "      <td>0.257383</td>\n",
       "      <td>0.052754</td>\n",
       "      <td>1.265270</td>\n",
       "      <td>1.353620</td>\n",
       "      <td>-1.023080</td>\n",
       "      <td>1.81499</td>\n",
       "      <td>0.723555</td>\n",
       "    </tr>\n",
       "    <tr>\n",
       "      <th>2</th>\n",
       "      <td>0.0</td>\n",
       "      <td>0.0</td>\n",
       "      <td>-0.178648</td>\n",
       "      <td>-1.562320</td>\n",
       "      <td>0.018253</td>\n",
       "      <td>1.255490</td>\n",
       "      <td>-1.255040</td>\n",
       "      <td>1.439220</td>\n",
       "      <td>1.067550</td>\n",
       "      <td>2.428280</td>\n",
       "      <td>...</td>\n",
       "      <td>0.553336</td>\n",
       "      <td>4.579340</td>\n",
       "      <td>2.01411</td>\n",
       "      <td>2.175650</td>\n",
       "      <td>0.476137</td>\n",
       "      <td>-1.573090</td>\n",
       "      <td>1.990880</td>\n",
       "      <td>4.495600</td>\n",
       "      <td>-4.44428</td>\n",
       "      <td>-1.622950</td>\n",
       "    </tr>\n",
       "    <tr>\n",
       "      <th>3</th>\n",
       "      <td>0.0</td>\n",
       "      <td>0.0</td>\n",
       "      <td>0.452558</td>\n",
       "      <td>1.807660</td>\n",
       "      <td>-0.188759</td>\n",
       "      <td>-0.604655</td>\n",
       "      <td>-1.631600</td>\n",
       "      <td>0.876941</td>\n",
       "      <td>0.609006</td>\n",
       "      <td>-0.685728</td>\n",
       "      <td>...</td>\n",
       "      <td>-0.266918</td>\n",
       "      <td>1.815600</td>\n",
       "      <td>4.78667</td>\n",
       "      <td>3.541330</td>\n",
       "      <td>0.954445</td>\n",
       "      <td>7.538290</td>\n",
       "      <td>2.084000</td>\n",
       "      <td>0.801006</td>\n",
       "      <td>-3.43066</td>\n",
       "      <td>2.458280</td>\n",
       "    </tr>\n",
       "    <tr>\n",
       "      <th>4</th>\n",
       "      <td>0.0</td>\n",
       "      <td>0.0</td>\n",
       "      <td>-1.007140</td>\n",
       "      <td>-0.545801</td>\n",
       "      <td>-0.663748</td>\n",
       "      <td>-1.084900</td>\n",
       "      <td>-1.741290</td>\n",
       "      <td>-0.621120</td>\n",
       "      <td>-2.058940</td>\n",
       "      <td>0.671296</td>\n",
       "      <td>...</td>\n",
       "      <td>0.494235</td>\n",
       "      <td>0.732109</td>\n",
       "      <td>-1.87848</td>\n",
       "      <td>0.970899</td>\n",
       "      <td>-4.988100</td>\n",
       "      <td>-4.434610</td>\n",
       "      <td>0.059459</td>\n",
       "      <td>-3.672500</td>\n",
       "      <td>3.42084</td>\n",
       "      <td>-0.928078</td>\n",
       "    </tr>\n",
       "  </tbody>\n",
       "</table>\n",
       "<p>5 rows × 4005 columns</p>\n",
       "</div>"
      ],
      "text/plain": [
       "   lp__  accept_stat__    X[1,1]    X[2,1]    X[3,1]    X[4,1]    X[5,1]  \\\n",
       "0   0.0            0.0  2.708170  0.777181 -1.272270  0.127591 -1.389420   \n",
       "1   0.0            0.0  1.719960 -1.233320 -2.029110 -0.255109 -0.254564   \n",
       "2   0.0            0.0 -0.178648 -1.562320  0.018253  1.255490 -1.255040   \n",
       "3   0.0            0.0  0.452558  1.807660 -0.188759 -0.604655 -1.631600   \n",
       "4   0.0            0.0 -1.007140 -0.545801 -0.663748 -1.084900 -1.741290   \n",
       "\n",
       "     X[6,1]    X[7,1]    X[8,1]  ...    y[991]    y[992]   y[993]    y[994]  \\\n",
       "0  0.246162  1.198730  2.265330  ...  2.434840 -1.690430 -1.11724  1.018020   \n",
       "1 -0.802033 -1.179080  0.642103  ...  0.281867 -0.194551 -0.04624  0.257383   \n",
       "2  1.439220  1.067550  2.428280  ...  0.553336  4.579340  2.01411  2.175650   \n",
       "3  0.876941  0.609006 -0.685728  ... -0.266918  1.815600  4.78667  3.541330   \n",
       "4 -0.621120 -2.058940  0.671296  ...  0.494235  0.732109 -1.87848  0.970899   \n",
       "\n",
       "     y[995]    y[996]    y[997]    y[998]   y[999]   y[1000]  \n",
       "0 -3.209390  0.647371 -1.979340 -0.181075 -3.39436 -0.348991  \n",
       "1  0.052754  1.265270  1.353620 -1.023080  1.81499  0.723555  \n",
       "2  0.476137 -1.573090  1.990880  4.495600 -4.44428 -1.622950  \n",
       "3  0.954445  7.538290  2.084000  0.801006 -3.43066  2.458280  \n",
       "4 -4.988100 -4.434610  0.059459 -3.672500  3.42084 -0.928078  \n",
       "\n",
       "[5 rows x 4005 columns]"
      ]
     },
     "execution_count": 7,
     "metadata": {},
     "output_type": "execute_result"
    }
   ],
   "source": [
    "data2_df.head()"
   ]
  },
  {
   "attachments": {},
   "cell_type": "markdown",
   "metadata": {},
   "source": [
    "### Exercise 2 - compare normal and student models"
   ]
  },
  {
   "cell_type": "code",
   "execution_count": 8,
   "metadata": {},
   "outputs": [
    {
     "data": {
      "text/html": [
       "<div>\n",
       "<style scoped>\n",
       "    .dataframe tbody tr th:only-of-type {\n",
       "        vertical-align: middle;\n",
       "    }\n",
       "\n",
       "    .dataframe tbody tr th {\n",
       "        vertical-align: top;\n",
       "    }\n",
       "\n",
       "    .dataframe thead th {\n",
       "        text-align: right;\n",
       "    }\n",
       "</style>\n",
       "<table border=\"1\" class=\"dataframe\">\n",
       "  <thead>\n",
       "    <tr style=\"text-align: right;\">\n",
       "      <th></th>\n",
       "      <th>y[1]</th>\n",
       "      <th>y[2]</th>\n",
       "      <th>y[3]</th>\n",
       "      <th>y[4]</th>\n",
       "      <th>y[5]</th>\n",
       "      <th>y[6]</th>\n",
       "      <th>y[7]</th>\n",
       "      <th>y[8]</th>\n",
       "      <th>y[9]</th>\n",
       "      <th>y[10]</th>\n",
       "      <th>...</th>\n",
       "      <th>y[991]</th>\n",
       "      <th>y[992]</th>\n",
       "      <th>y[993]</th>\n",
       "      <th>y[994]</th>\n",
       "      <th>y[995]</th>\n",
       "      <th>y[996]</th>\n",
       "      <th>y[997]</th>\n",
       "      <th>y[998]</th>\n",
       "      <th>y[999]</th>\n",
       "      <th>y[1000]</th>\n",
       "    </tr>\n",
       "  </thead>\n",
       "  <tbody>\n",
       "    <tr>\n",
       "      <th>0</th>\n",
       "      <td>-0.424502</td>\n",
       "      <td>-0.063661</td>\n",
       "      <td>-0.833885</td>\n",
       "      <td>1.551580</td>\n",
       "      <td>-0.362245</td>\n",
       "      <td>0.743487</td>\n",
       "      <td>0.970844</td>\n",
       "      <td>0.555378</td>\n",
       "      <td>0.598941</td>\n",
       "      <td>1.399070</td>\n",
       "      <td>...</td>\n",
       "      <td>-0.419821</td>\n",
       "      <td>0.510223</td>\n",
       "      <td>-0.055905</td>\n",
       "      <td>0.800251</td>\n",
       "      <td>-1.655780</td>\n",
       "      <td>1.039720</td>\n",
       "      <td>1.156010</td>\n",
       "      <td>1.056100</td>\n",
       "      <td>1.048080</td>\n",
       "      <td>-0.668507</td>\n",
       "    </tr>\n",
       "    <tr>\n",
       "      <th>1</th>\n",
       "      <td>0.691707</td>\n",
       "      <td>-0.718324</td>\n",
       "      <td>1.510380</td>\n",
       "      <td>-0.515844</td>\n",
       "      <td>-0.759546</td>\n",
       "      <td>0.823583</td>\n",
       "      <td>-1.203840</td>\n",
       "      <td>0.280014</td>\n",
       "      <td>-0.668970</td>\n",
       "      <td>1.579490</td>\n",
       "      <td>...</td>\n",
       "      <td>-0.151676</td>\n",
       "      <td>-0.139082</td>\n",
       "      <td>0.581032</td>\n",
       "      <td>-0.161371</td>\n",
       "      <td>-0.744724</td>\n",
       "      <td>-0.440833</td>\n",
       "      <td>0.770468</td>\n",
       "      <td>-0.245155</td>\n",
       "      <td>-0.692138</td>\n",
       "      <td>0.457749</td>\n",
       "    </tr>\n",
       "    <tr>\n",
       "      <th>2</th>\n",
       "      <td>0.454723</td>\n",
       "      <td>0.553359</td>\n",
       "      <td>-0.858150</td>\n",
       "      <td>0.623616</td>\n",
       "      <td>0.170166</td>\n",
       "      <td>-0.984149</td>\n",
       "      <td>-0.441384</td>\n",
       "      <td>-1.450820</td>\n",
       "      <td>0.307736</td>\n",
       "      <td>1.808740</td>\n",
       "      <td>...</td>\n",
       "      <td>-1.227770</td>\n",
       "      <td>4.536370</td>\n",
       "      <td>0.846926</td>\n",
       "      <td>-0.978754</td>\n",
       "      <td>-0.689286</td>\n",
       "      <td>1.996560</td>\n",
       "      <td>-0.463004</td>\n",
       "      <td>1.485180</td>\n",
       "      <td>1.273640</td>\n",
       "      <td>1.266120</td>\n",
       "    </tr>\n",
       "    <tr>\n",
       "      <th>3</th>\n",
       "      <td>-0.419475</td>\n",
       "      <td>-1.141710</td>\n",
       "      <td>0.318598</td>\n",
       "      <td>-0.025358</td>\n",
       "      <td>0.357122</td>\n",
       "      <td>-0.721668</td>\n",
       "      <td>0.014098</td>\n",
       "      <td>0.605672</td>\n",
       "      <td>-1.860580</td>\n",
       "      <td>0.943592</td>\n",
       "      <td>...</td>\n",
       "      <td>-0.544827</td>\n",
       "      <td>-0.023012</td>\n",
       "      <td>-0.384155</td>\n",
       "      <td>-0.073107</td>\n",
       "      <td>1.208040</td>\n",
       "      <td>1.561990</td>\n",
       "      <td>0.206984</td>\n",
       "      <td>-1.412740</td>\n",
       "      <td>-0.303845</td>\n",
       "      <td>-0.111587</td>\n",
       "    </tr>\n",
       "    <tr>\n",
       "      <th>4</th>\n",
       "      <td>-1.087330</td>\n",
       "      <td>-0.518329</td>\n",
       "      <td>-0.659032</td>\n",
       "      <td>2.376360</td>\n",
       "      <td>-0.239320</td>\n",
       "      <td>0.112092</td>\n",
       "      <td>-0.412680</td>\n",
       "      <td>-1.029170</td>\n",
       "      <td>1.563720</td>\n",
       "      <td>0.333931</td>\n",
       "      <td>...</td>\n",
       "      <td>0.876384</td>\n",
       "      <td>0.827360</td>\n",
       "      <td>-0.654178</td>\n",
       "      <td>-1.051340</td>\n",
       "      <td>0.073445</td>\n",
       "      <td>2.634920</td>\n",
       "      <td>0.305851</td>\n",
       "      <td>-0.159827</td>\n",
       "      <td>0.017941</td>\n",
       "      <td>-0.666121</td>\n",
       "    </tr>\n",
       "  </tbody>\n",
       "</table>\n",
       "<p>5 rows × 1000 columns</p>\n",
       "</div>"
      ],
      "text/plain": [
       "       y[1]      y[2]      y[3]      y[4]      y[5]      y[6]      y[7]  \\\n",
       "0 -0.424502 -0.063661 -0.833885  1.551580 -0.362245  0.743487  0.970844   \n",
       "1  0.691707 -0.718324  1.510380 -0.515844 -0.759546  0.823583 -1.203840   \n",
       "2  0.454723  0.553359 -0.858150  0.623616  0.170166 -0.984149 -0.441384   \n",
       "3 -0.419475 -1.141710  0.318598 -0.025358  0.357122 -0.721668  0.014098   \n",
       "4 -1.087330 -0.518329 -0.659032  2.376360 -0.239320  0.112092 -0.412680   \n",
       "\n",
       "       y[8]      y[9]     y[10]  ...    y[991]    y[992]    y[993]    y[994]  \\\n",
       "0  0.555378  0.598941  1.399070  ... -0.419821  0.510223 -0.055905  0.800251   \n",
       "1  0.280014 -0.668970  1.579490  ... -0.151676 -0.139082  0.581032 -0.161371   \n",
       "2 -1.450820  0.307736  1.808740  ... -1.227770  4.536370  0.846926 -0.978754   \n",
       "3  0.605672 -1.860580  0.943592  ... -0.544827 -0.023012 -0.384155 -0.073107   \n",
       "4 -1.029170  1.563720  0.333931  ...  0.876384  0.827360 -0.654178 -1.051340   \n",
       "\n",
       "     y[995]    y[996]    y[997]    y[998]    y[999]   y[1000]  \n",
       "0 -1.655780  1.039720  1.156010  1.056100  1.048080 -0.668507  \n",
       "1 -0.744724 -0.440833  0.770468 -0.245155 -0.692138  0.457749  \n",
       "2 -0.689286  1.996560 -0.463004  1.485180  1.273640  1.266120  \n",
       "3  1.208040  1.561990  0.206984 -1.412740 -0.303845 -0.111587  \n",
       "4  0.073445  2.634920  0.305851 -0.159827  0.017941 -0.666121  \n",
       "\n",
       "[5 rows x 1000 columns]"
      ]
     },
     "execution_count": 8,
     "metadata": {},
     "output_type": "execute_result"
    }
   ],
   "source": [
    "y_data1 = data1_df.loc[:, 'y[1]':f'y[{N}]']\n",
    "y_data1.head()"
   ]
  },
  {
   "cell_type": "code",
   "execution_count": 9,
   "metadata": {},
   "outputs": [],
   "source": [
    "y_data1_np = y_data1.values[0, :]\n",
    "data1_fit = dict(N=N, y=y_data1_np)"
   ]
  },
  {
   "cell_type": "code",
   "execution_count": 10,
   "metadata": {},
   "outputs": [
    {
     "name": "stderr",
     "output_type": "stream",
     "text": [
      "INFO:cmdstanpy:found newer exe file, not recompiling\n",
      "INFO:cmdstanpy:CmdStan start processing\n",
      "chain 1 |\u001b[33m          \u001b[0m| 00:00 Status\n",
      "\u001b[A\n",
      "\n",
      "chain 1 |\u001b[33m▉         \u001b[0m| 00:00 Iteration:    1 / 2000 [  0%]  (Warmup)\n",
      "\u001b[A\n",
      "\n",
      "chain 1 |\u001b[34m█████▉    \u001b[0m| 00:00 Iteration: 1001 / 2000 [ 50%]  (Sampling)\n",
      "\u001b[A\n",
      "\n",
      "\u001b[A\u001b[A\n",
      "chain 1 |\u001b[34m████████▏ \u001b[0m| 00:01 Iteration: 1500 / 2000 [ 75%]  (Sampling)\n",
      "\n",
      "\u001b[A\u001b[A\n",
      "chain 1 |\u001b[34m█████████▌\u001b[0m| 00:01 Iteration: 1800 / 2000 [ 90%]  (Sampling)\n",
      "\n",
      "chain 1 |\u001b[34m██████████\u001b[0m| 00:01 Sampling completed                       \n",
      "chain 2 |\u001b[34m██████████\u001b[0m| 00:01 Sampling completed                       \n",
      "chain 3 |\u001b[34m██████████\u001b[0m| 00:01 Sampling completed                       \n",
      "chain 4 |\u001b[34m██████████\u001b[0m| 00:01 Sampling completed                       "
     ]
    },
    {
     "name": "stdout",
     "output_type": "stream",
     "text": [
      "                                                                                                                                                                                                                                                                                                                                "
     ]
    },
    {
     "name": "stderr",
     "output_type": "stream",
     "text": [
      "\n",
      "INFO:cmdstanpy:CmdStan done processing.\n"
     ]
    },
    {
     "name": "stdout",
     "output_type": "stream",
     "text": [
      "\n"
     ]
    }
   ],
   "source": [
    "model_3=CmdStanModel(stan_file='code_3.stan')\n",
    "\n",
    "sim_3_fit1=model_3.sample(data=data1_fit,\n",
    "                     seed=29042020)"
   ]
  },
  {
   "cell_type": "code",
   "execution_count": 11,
   "metadata": {},
   "outputs": [
    {
     "name": "stderr",
     "output_type": "stream",
     "text": [
      "INFO:cmdstanpy:found newer exe file, not recompiling\n",
      "INFO:cmdstanpy:CmdStan start processing\n",
      "chain 1 |\u001b[33m          \u001b[0m| 00:00 Status\n",
      "\u001b[A\n",
      "\n",
      "chain 1 |\u001b[33m▍         \u001b[0m| 00:00 Status\n",
      "\u001b[A\n",
      "\n",
      "chain 1 |\u001b[33m██▋       \u001b[0m| 00:00 Iteration:  400 / 2000 [ 20%]  (Warmup)\n",
      "\u001b[A\n",
      "\n",
      "\u001b[A\u001b[A\n",
      "\u001b[A\n",
      "\n",
      "chain 1 |\u001b[34m███████▎  \u001b[0m| 00:01 Iteration: 1300 / 2000 [ 65%]  (Sampling)\n",
      "\u001b[A\n",
      "\n",
      "chain 1 |\u001b[34m████████▏ \u001b[0m| 00:01 Iteration: 1500 / 2000 [ 75%]  (Sampling)\n",
      "chain 1 |\u001b[34m█████████ \u001b[0m| 00:02 Iteration: 1700 / 2000 [ 85%]  (Sampling)\n",
      "\n",
      "\u001b[A\u001b[A\n",
      "chain 1 |\u001b[34m██████████\u001b[0m| 00:02 Iteration: 1900 / 2000 [ 95%]  (Sampling)\n",
      "\n",
      "chain 1 |\u001b[34m██████████\u001b[0m| 00:02 Sampling completed                       \n",
      "chain 2 |\u001b[34m██████████\u001b[0m| 00:02 Sampling completed                       \n",
      "chain 3 |\u001b[34m██████████\u001b[0m| 00:02 Sampling completed                       \n",
      "chain 4 |\u001b[34m██████████\u001b[0m| 00:02 Sampling completed                       "
     ]
    },
    {
     "name": "stdout",
     "output_type": "stream",
     "text": [
      "                                                                                                                                                                                                                                                                                                                                "
     ]
    },
    {
     "name": "stderr",
     "output_type": "stream",
     "text": [
      "\n",
      "INFO:cmdstanpy:CmdStan done processing.\n"
     ]
    },
    {
     "name": "stdout",
     "output_type": "stream",
     "text": [
      "\n"
     ]
    }
   ],
   "source": [
    "model_4=CmdStanModel(stan_file='code_4.stan')\n",
    "\n",
    "sim_4_fit1=model_4.sample(data=data1_fit,\n",
    "                     seed=29042020)"
   ]
  },
  {
   "cell_type": "code",
   "execution_count": 12,
   "metadata": {},
   "outputs": [],
   "source": [
    "sim_3_fit1_df = sim_3_fit1.draws_pd()\n",
    "sim_4_fit1_df = sim_4_fit1.draws_pd()"
   ]
  },
  {
   "cell_type": "code",
   "execution_count": 13,
   "metadata": {},
   "outputs": [
    {
     "data": {
      "text/html": [
       "<div>\n",
       "<style scoped>\n",
       "    .dataframe tbody tr th:only-of-type {\n",
       "        vertical-align: middle;\n",
       "    }\n",
       "\n",
       "    .dataframe tbody tr th {\n",
       "        vertical-align: top;\n",
       "    }\n",
       "\n",
       "    .dataframe thead th {\n",
       "        text-align: right;\n",
       "    }\n",
       "</style>\n",
       "<table border=\"1\" class=\"dataframe\">\n",
       "  <thead>\n",
       "    <tr style=\"text-align: right;\">\n",
       "      <th></th>\n",
       "      <th>lp__</th>\n",
       "      <th>accept_stat__</th>\n",
       "      <th>stepsize__</th>\n",
       "      <th>treedepth__</th>\n",
       "      <th>n_leapfrog__</th>\n",
       "      <th>divergent__</th>\n",
       "      <th>energy__</th>\n",
       "      <th>sigma</th>\n",
       "      <th>mu</th>\n",
       "      <th>log_lik[1]</th>\n",
       "      <th>...</th>\n",
       "      <th>y_hat[991]</th>\n",
       "      <th>y_hat[992]</th>\n",
       "      <th>y_hat[993]</th>\n",
       "      <th>y_hat[994]</th>\n",
       "      <th>y_hat[995]</th>\n",
       "      <th>y_hat[996]</th>\n",
       "      <th>y_hat[997]</th>\n",
       "      <th>y_hat[998]</th>\n",
       "      <th>y_hat[999]</th>\n",
       "      <th>y_hat[1000]</th>\n",
       "    </tr>\n",
       "  </thead>\n",
       "  <tbody>\n",
       "    <tr>\n",
       "      <th>0</th>\n",
       "      <td>-1798.25</td>\n",
       "      <td>0.990257</td>\n",
       "      <td>0.770827</td>\n",
       "      <td>2.0</td>\n",
       "      <td>3.0</td>\n",
       "      <td>0.0</td>\n",
       "      <td>1799.22</td>\n",
       "      <td>1.46568</td>\n",
       "      <td>0.058701</td>\n",
       "      <td>-1.35560</td>\n",
       "      <td>...</td>\n",
       "      <td>-0.544100</td>\n",
       "      <td>-1.043440</td>\n",
       "      <td>0.522979</td>\n",
       "      <td>-0.574911</td>\n",
       "      <td>0.972840</td>\n",
       "      <td>-0.073779</td>\n",
       "      <td>1.22572</td>\n",
       "      <td>-0.584332</td>\n",
       "      <td>-1.199990</td>\n",
       "      <td>1.553420</td>\n",
       "    </tr>\n",
       "    <tr>\n",
       "      <th>1</th>\n",
       "      <td>-1798.33</td>\n",
       "      <td>0.984009</td>\n",
       "      <td>0.770827</td>\n",
       "      <td>3.0</td>\n",
       "      <td>7.0</td>\n",
       "      <td>0.0</td>\n",
       "      <td>1798.68</td>\n",
       "      <td>1.49253</td>\n",
       "      <td>0.073942</td>\n",
       "      <td>-1.37518</td>\n",
       "      <td>...</td>\n",
       "      <td>-0.038372</td>\n",
       "      <td>-0.010576</td>\n",
       "      <td>-1.319480</td>\n",
       "      <td>-1.965120</td>\n",
       "      <td>-1.049040</td>\n",
       "      <td>-1.411330</td>\n",
       "      <td>-3.07895</td>\n",
       "      <td>1.146830</td>\n",
       "      <td>3.304600</td>\n",
       "      <td>0.676324</td>\n",
       "    </tr>\n",
       "    <tr>\n",
       "      <th>2</th>\n",
       "      <td>-1798.40</td>\n",
       "      <td>0.990283</td>\n",
       "      <td>0.770827</td>\n",
       "      <td>3.0</td>\n",
       "      <td>7.0</td>\n",
       "      <td>0.0</td>\n",
       "      <td>1798.93</td>\n",
       "      <td>1.43002</td>\n",
       "      <td>0.089837</td>\n",
       "      <td>-1.34131</td>\n",
       "      <td>...</td>\n",
       "      <td>0.836992</td>\n",
       "      <td>-0.599305</td>\n",
       "      <td>-2.425250</td>\n",
       "      <td>0.790164</td>\n",
       "      <td>2.924610</td>\n",
       "      <td>2.475240</td>\n",
       "      <td>2.77630</td>\n",
       "      <td>-0.607805</td>\n",
       "      <td>-1.989640</td>\n",
       "      <td>0.811731</td>\n",
       "    </tr>\n",
       "    <tr>\n",
       "      <th>3</th>\n",
       "      <td>-1800.07</td>\n",
       "      <td>0.858500</td>\n",
       "      <td>0.770827</td>\n",
       "      <td>2.0</td>\n",
       "      <td>7.0</td>\n",
       "      <td>0.0</td>\n",
       "      <td>1800.77</td>\n",
       "      <td>1.41701</td>\n",
       "      <td>0.172495</td>\n",
       "      <td>-1.35624</td>\n",
       "      <td>...</td>\n",
       "      <td>-1.852560</td>\n",
       "      <td>-0.013216</td>\n",
       "      <td>-0.019763</td>\n",
       "      <td>0.797708</td>\n",
       "      <td>0.900528</td>\n",
       "      <td>-0.213723</td>\n",
       "      <td>-1.93547</td>\n",
       "      <td>0.346935</td>\n",
       "      <td>0.496456</td>\n",
       "      <td>2.794080</td>\n",
       "    </tr>\n",
       "    <tr>\n",
       "      <th>4</th>\n",
       "      <td>-1799.18</td>\n",
       "      <td>0.975933</td>\n",
       "      <td>0.770827</td>\n",
       "      <td>2.0</td>\n",
       "      <td>3.0</td>\n",
       "      <td>0.0</td>\n",
       "      <td>1801.11</td>\n",
       "      <td>1.47508</td>\n",
       "      <td>0.180122</td>\n",
       "      <td>-1.39165</td>\n",
       "      <td>...</td>\n",
       "      <td>-2.562720</td>\n",
       "      <td>0.044293</td>\n",
       "      <td>-2.430790</td>\n",
       "      <td>1.418290</td>\n",
       "      <td>-0.848196</td>\n",
       "      <td>1.660680</td>\n",
       "      <td>-2.66769</td>\n",
       "      <td>-3.410690</td>\n",
       "      <td>0.500766</td>\n",
       "      <td>-0.312754</td>\n",
       "    </tr>\n",
       "  </tbody>\n",
       "</table>\n",
       "<p>5 rows × 2009 columns</p>\n",
       "</div>"
      ],
      "text/plain": [
       "      lp__  accept_stat__  stepsize__  treedepth__  n_leapfrog__  divergent__  \\\n",
       "0 -1798.25       0.990257    0.770827          2.0           3.0          0.0   \n",
       "1 -1798.33       0.984009    0.770827          3.0           7.0          0.0   \n",
       "2 -1798.40       0.990283    0.770827          3.0           7.0          0.0   \n",
       "3 -1800.07       0.858500    0.770827          2.0           7.0          0.0   \n",
       "4 -1799.18       0.975933    0.770827          2.0           3.0          0.0   \n",
       "\n",
       "   energy__    sigma        mu  log_lik[1]  ...  y_hat[991]  y_hat[992]  \\\n",
       "0   1799.22  1.46568  0.058701    -1.35560  ...   -0.544100   -1.043440   \n",
       "1   1798.68  1.49253  0.073942    -1.37518  ...   -0.038372   -0.010576   \n",
       "2   1798.93  1.43002  0.089837    -1.34131  ...    0.836992   -0.599305   \n",
       "3   1800.77  1.41701  0.172495    -1.35624  ...   -1.852560   -0.013216   \n",
       "4   1801.11  1.47508  0.180122    -1.39165  ...   -2.562720    0.044293   \n",
       "\n",
       "   y_hat[993]  y_hat[994]  y_hat[995]  y_hat[996]  y_hat[997]  y_hat[998]  \\\n",
       "0    0.522979   -0.574911    0.972840   -0.073779     1.22572   -0.584332   \n",
       "1   -1.319480   -1.965120   -1.049040   -1.411330    -3.07895    1.146830   \n",
       "2   -2.425250    0.790164    2.924610    2.475240     2.77630   -0.607805   \n",
       "3   -0.019763    0.797708    0.900528   -0.213723    -1.93547    0.346935   \n",
       "4   -2.430790    1.418290   -0.848196    1.660680    -2.66769   -3.410690   \n",
       "\n",
       "   y_hat[999]  y_hat[1000]  \n",
       "0   -1.199990     1.553420  \n",
       "1    3.304600     0.676324  \n",
       "2   -1.989640     0.811731  \n",
       "3    0.496456     2.794080  \n",
       "4    0.500766    -0.312754  \n",
       "\n",
       "[5 rows x 2009 columns]"
      ]
     },
     "execution_count": 13,
     "metadata": {},
     "output_type": "execute_result"
    }
   ],
   "source": [
    "sim_3_fit1_df.head()"
   ]
  },
  {
   "cell_type": "code",
   "execution_count": 14,
   "metadata": {},
   "outputs": [
    {
     "data": {
      "text/html": [
       "<div>\n",
       "<style scoped>\n",
       "    .dataframe tbody tr th:only-of-type {\n",
       "        vertical-align: middle;\n",
       "    }\n",
       "\n",
       "    .dataframe tbody tr th {\n",
       "        vertical-align: top;\n",
       "    }\n",
       "\n",
       "    .dataframe thead th {\n",
       "        text-align: right;\n",
       "    }\n",
       "</style>\n",
       "<table border=\"1\" class=\"dataframe\">\n",
       "  <thead>\n",
       "    <tr style=\"text-align: right;\">\n",
       "      <th></th>\n",
       "      <th>lp__</th>\n",
       "      <th>accept_stat__</th>\n",
       "      <th>stepsize__</th>\n",
       "      <th>treedepth__</th>\n",
       "      <th>n_leapfrog__</th>\n",
       "      <th>divergent__</th>\n",
       "      <th>energy__</th>\n",
       "      <th>sigma</th>\n",
       "      <th>mu</th>\n",
       "      <th>nu</th>\n",
       "      <th>...</th>\n",
       "      <th>y_hat[991]</th>\n",
       "      <th>y_hat[992]</th>\n",
       "      <th>y_hat[993]</th>\n",
       "      <th>y_hat[994]</th>\n",
       "      <th>y_hat[995]</th>\n",
       "      <th>y_hat[996]</th>\n",
       "      <th>y_hat[997]</th>\n",
       "      <th>y_hat[998]</th>\n",
       "      <th>y_hat[999]</th>\n",
       "      <th>y_hat[1000]</th>\n",
       "    </tr>\n",
       "  </thead>\n",
       "  <tbody>\n",
       "    <tr>\n",
       "      <th>0</th>\n",
       "      <td>-1480.46</td>\n",
       "      <td>0.941503</td>\n",
       "      <td>0.604221</td>\n",
       "      <td>2.0</td>\n",
       "      <td>7.0</td>\n",
       "      <td>0.0</td>\n",
       "      <td>1482.43</td>\n",
       "      <td>0.826324</td>\n",
       "      <td>0.022313</td>\n",
       "      <td>3.94314</td>\n",
       "      <td>...</td>\n",
       "      <td>0.893822</td>\n",
       "      <td>-0.402850</td>\n",
       "      <td>0.952488</td>\n",
       "      <td>-0.418644</td>\n",
       "      <td>0.444629</td>\n",
       "      <td>1.112830</td>\n",
       "      <td>-1.364650</td>\n",
       "      <td>0.988745</td>\n",
       "      <td>0.732745</td>\n",
       "      <td>-0.270454</td>\n",
       "    </tr>\n",
       "    <tr>\n",
       "      <th>1</th>\n",
       "      <td>-1481.45</td>\n",
       "      <td>0.840891</td>\n",
       "      <td>0.604221</td>\n",
       "      <td>3.0</td>\n",
       "      <td>7.0</td>\n",
       "      <td>0.0</td>\n",
       "      <td>1482.23</td>\n",
       "      <td>0.801454</td>\n",
       "      <td>0.042741</td>\n",
       "      <td>4.48396</td>\n",
       "      <td>...</td>\n",
       "      <td>0.705129</td>\n",
       "      <td>0.227963</td>\n",
       "      <td>-0.046660</td>\n",
       "      <td>-1.722080</td>\n",
       "      <td>-1.022640</td>\n",
       "      <td>0.859354</td>\n",
       "      <td>3.414280</td>\n",
       "      <td>-0.322643</td>\n",
       "      <td>0.751054</td>\n",
       "      <td>1.774210</td>\n",
       "    </tr>\n",
       "    <tr>\n",
       "      <th>2</th>\n",
       "      <td>-1481.72</td>\n",
       "      <td>0.980309</td>\n",
       "      <td>0.604221</td>\n",
       "      <td>2.0</td>\n",
       "      <td>3.0</td>\n",
       "      <td>0.0</td>\n",
       "      <td>1482.05</td>\n",
       "      <td>0.847333</td>\n",
       "      <td>0.041165</td>\n",
       "      <td>3.80827</td>\n",
       "      <td>...</td>\n",
       "      <td>1.871900</td>\n",
       "      <td>-1.537190</td>\n",
       "      <td>0.923154</td>\n",
       "      <td>-0.925310</td>\n",
       "      <td>0.451864</td>\n",
       "      <td>0.336611</td>\n",
       "      <td>-0.447675</td>\n",
       "      <td>0.118706</td>\n",
       "      <td>-1.911410</td>\n",
       "      <td>0.062619</td>\n",
       "    </tr>\n",
       "    <tr>\n",
       "      <th>3</th>\n",
       "      <td>-1480.79</td>\n",
       "      <td>0.932620</td>\n",
       "      <td>0.604221</td>\n",
       "      <td>3.0</td>\n",
       "      <td>7.0</td>\n",
       "      <td>0.0</td>\n",
       "      <td>1482.74</td>\n",
       "      <td>0.816642</td>\n",
       "      <td>-0.002646</td>\n",
       "      <td>4.35410</td>\n",
       "      <td>...</td>\n",
       "      <td>0.410984</td>\n",
       "      <td>-0.077361</td>\n",
       "      <td>0.254482</td>\n",
       "      <td>2.009350</td>\n",
       "      <td>-0.583305</td>\n",
       "      <td>-1.834020</td>\n",
       "      <td>-0.210459</td>\n",
       "      <td>1.384500</td>\n",
       "      <td>1.716250</td>\n",
       "      <td>-0.757751</td>\n",
       "    </tr>\n",
       "    <tr>\n",
       "      <th>4</th>\n",
       "      <td>-1480.84</td>\n",
       "      <td>0.998087</td>\n",
       "      <td>0.604221</td>\n",
       "      <td>2.0</td>\n",
       "      <td>3.0</td>\n",
       "      <td>0.0</td>\n",
       "      <td>1481.21</td>\n",
       "      <td>0.837047</td>\n",
       "      <td>-0.010435</td>\n",
       "      <td>4.27772</td>\n",
       "      <td>...</td>\n",
       "      <td>-0.486360</td>\n",
       "      <td>-0.113052</td>\n",
       "      <td>-1.192770</td>\n",
       "      <td>0.414464</td>\n",
       "      <td>0.561073</td>\n",
       "      <td>0.576224</td>\n",
       "      <td>-0.290485</td>\n",
       "      <td>-3.355320</td>\n",
       "      <td>1.722830</td>\n",
       "      <td>-0.711896</td>\n",
       "    </tr>\n",
       "  </tbody>\n",
       "</table>\n",
       "<p>5 rows × 2010 columns</p>\n",
       "</div>"
      ],
      "text/plain": [
       "      lp__  accept_stat__  stepsize__  treedepth__  n_leapfrog__  divergent__  \\\n",
       "0 -1480.46       0.941503    0.604221          2.0           7.0          0.0   \n",
       "1 -1481.45       0.840891    0.604221          3.0           7.0          0.0   \n",
       "2 -1481.72       0.980309    0.604221          2.0           3.0          0.0   \n",
       "3 -1480.79       0.932620    0.604221          3.0           7.0          0.0   \n",
       "4 -1480.84       0.998087    0.604221          2.0           3.0          0.0   \n",
       "\n",
       "   energy__     sigma        mu       nu  ...  y_hat[991]  y_hat[992]  \\\n",
       "0   1482.43  0.826324  0.022313  3.94314  ...    0.893822   -0.402850   \n",
       "1   1482.23  0.801454  0.042741  4.48396  ...    0.705129    0.227963   \n",
       "2   1482.05  0.847333  0.041165  3.80827  ...    1.871900   -1.537190   \n",
       "3   1482.74  0.816642 -0.002646  4.35410  ...    0.410984   -0.077361   \n",
       "4   1481.21  0.837047 -0.010435  4.27772  ...   -0.486360   -0.113052   \n",
       "\n",
       "   y_hat[993]  y_hat[994]  y_hat[995]  y_hat[996]  y_hat[997]  y_hat[998]  \\\n",
       "0    0.952488   -0.418644    0.444629    1.112830   -1.364650    0.988745   \n",
       "1   -0.046660   -1.722080   -1.022640    0.859354    3.414280   -0.322643   \n",
       "2    0.923154   -0.925310    0.451864    0.336611   -0.447675    0.118706   \n",
       "3    0.254482    2.009350   -0.583305   -1.834020   -0.210459    1.384500   \n",
       "4   -1.192770    0.414464    0.561073    0.576224   -0.290485   -3.355320   \n",
       "\n",
       "   y_hat[999]  y_hat[1000]  \n",
       "0    0.732745    -0.270454  \n",
       "1    0.751054     1.774210  \n",
       "2   -1.911410     0.062619  \n",
       "3    1.716250    -0.757751  \n",
       "4    1.722830    -0.711896  \n",
       "\n",
       "[5 rows x 2010 columns]"
      ]
     },
     "execution_count": 14,
     "metadata": {},
     "output_type": "execute_result"
    }
   ],
   "source": [
    "sim_4_fit1_df.head()"
   ]
  },
  {
   "attachments": {},
   "cell_type": "markdown",
   "metadata": {},
   "source": [
    "#### Model comparison"
   ]
  },
  {
   "cell_type": "code",
   "execution_count": 15,
   "metadata": {},
   "outputs": [
    {
     "name": "stdout",
     "output_type": "stream",
     "text": [
      "----------- loo -----------\n"
     ]
    },
    {
     "name": "stderr",
     "output_type": "stream",
     "text": [
      "/usr/local/lib/python3.9/site-packages/arviz/stats/stats.py:811: UserWarning: Estimated shape parameter of Pareto distribution is greater than 0.7 for one or more samples. You should consider using a more robust model, this is because importance sampling is less likely to work well if the marginal posterior and LOO posterior are very different. This is more likely to happen with a non-robust model and highly influential observations.\n",
      "  warnings.warn(\n"
     ]
    },
    {
     "name": "stdout",
     "output_type": "stream",
     "text": [
      "Computed from 4000 by 1000 log-likelihood matrix\n",
      "\n",
      "         Estimate       SE\n",
      "elpd_loo -1815.62   129.68\n",
      "p_loo       31.55        -\n",
      "\n",
      "There has been a warning during the calculation. Please check the results.\n",
      "------\n",
      "\n",
      "Pareto k diagnostic values:\n",
      "                         Count   Pct.\n",
      "(-Inf, 0.5]   (good)      997   99.7%\n",
      " (0.5, 0.7]   (ok)          0    0.0%\n",
      "   (0.7, 1]   (bad)         2    0.2%\n",
      "   (1, Inf)   (very bad)    1    0.1%\n",
      "\n",
      "----------- waic -----------\n",
      "Computed from 4000 by 1000 log-likelihood matrix\n",
      "\n",
      "          Estimate       SE\n",
      "elpd_waic -1816.64   130.22\n",
      "p_waic       32.57        -\n",
      "\n",
      "There has been a warning during the calculation. Please check the results.\n"
     ]
    },
    {
     "name": "stderr",
     "output_type": "stream",
     "text": [
      "/usr/local/lib/python3.9/site-packages/arviz/stats/stats.py:1635: UserWarning: For one or more samples the posterior variance of the log predictive densities exceeds 0.4. This could be indication of WAIC starting to fail. \n",
      "See http://arxiv.org/abs/1507.04544 for details\n",
      "  warnings.warn(\n"
     ]
    }
   ],
   "source": [
    "print(\"----------- loo -----------\")\n",
    "print(az.loo(sim_3_fit1))\n",
    "print(\"----------- waic -----------\")\n",
    "print(az.waic(sim_3_fit1))"
   ]
  },
  {
   "cell_type": "code",
   "execution_count": 16,
   "metadata": {},
   "outputs": [
    {
     "name": "stdout",
     "output_type": "stream",
     "text": [
      "----------- loo -----------\n",
      "Computed from 4000 by 1000 log-likelihood matrix\n",
      "\n",
      "         Estimate       SE\n",
      "elpd_loo -1481.35    34.90\n",
      "p_loo        4.62        -\n",
      "------\n",
      "\n",
      "Pareto k diagnostic values:\n",
      "                         Count   Pct.\n",
      "(-Inf, 0.5]   (good)     1000  100.0%\n",
      " (0.5, 0.7]   (ok)          0    0.0%\n",
      "   (0.7, 1]   (bad)         0    0.0%\n",
      "   (1, Inf)   (very bad)    0    0.0%\n",
      "\n",
      "----------- waic -----------\n",
      "Computed from 4000 by 1000 log-likelihood matrix\n",
      "\n",
      "          Estimate       SE\n",
      "elpd_waic -1481.33    34.90\n",
      "p_waic        4.60        -\n",
      "\n",
      "There has been a warning during the calculation. Please check the results.\n"
     ]
    },
    {
     "name": "stderr",
     "output_type": "stream",
     "text": [
      "/usr/local/lib/python3.9/site-packages/arviz/stats/stats.py:1635: UserWarning: For one or more samples the posterior variance of the log predictive densities exceeds 0.4. This could be indication of WAIC starting to fail. \n",
      "See http://arxiv.org/abs/1507.04544 for details\n",
      "  warnings.warn(\n"
     ]
    }
   ],
   "source": [
    "print(\"----------- loo -----------\")\n",
    "print(az.loo(sim_4_fit1))\n",
    "print(\"----------- waic -----------\")\n",
    "print(az.waic(sim_4_fit1))\n"
   ]
  },
  {
   "cell_type": "code",
   "execution_count": 17,
   "metadata": {},
   "outputs": [],
   "source": [
    "InferenceData3_fit1 = az.from_cmdstanpy(posterior=sim_3_fit1)\n",
    "InferenceData4_fit1 = az.from_cmdstanpy(posterior=sim_4_fit1)"
   ]
  },
  {
   "cell_type": "code",
   "execution_count": 18,
   "metadata": {},
   "outputs": [
    {
     "name": "stderr",
     "output_type": "stream",
     "text": [
      "/usr/local/lib/python3.9/site-packages/arviz/stats/stats.py:811: UserWarning: Estimated shape parameter of Pareto distribution is greater than 0.7 for one or more samples. You should consider using a more robust model, this is because importance sampling is less likely to work well if the marginal posterior and LOO posterior are very different. This is more likely to happen with a non-robust model and highly influential observations.\n",
      "  warnings.warn(\n"
     ]
    },
    {
     "name": "stdout",
     "output_type": "stream",
     "text": [
      "               rank          loo      p_loo       d_loo        weight  \\\n",
      "student model     0 -1481.348903   4.619085    0.000000  1.000000e+00   \n",
      "normal model      1 -1815.617002  31.545393  334.268099  6.970708e-10   \n",
      "\n",
      "                       se         dse  warning loo_scale  \n",
      "student model   34.903089    0.000000    False       log  \n",
      "normal model   129.679342  105.752283     True       log  \n"
     ]
    },
    {
     "data": {
      "text/plain": [
       "Text(0.5, 1.0, 'Loo for code_1')"
      ]
     },
     "execution_count": 18,
     "metadata": {},
     "output_type": "execute_result"
    },
    {
     "data": {
      "text/plain": [
       "<Figure size 432x288 with 0 Axes>"
      ]
     },
     "metadata": {},
     "output_type": "display_data"
    },
    {
     "data": {
      "image/png": "[encoded data removed]",
      "text/plain": [
       "<Figure size 432x144 with 1 Axes>"
      ]
     },
     "metadata": {
      "needs_background": "light"
     },
     "output_type": "display_data"
    }
   ],
   "source": [
    "compare_model_3_4_fit1=az.compare({\"normal model\":InferenceData3_fit1,\"student model\":InferenceData4_fit1}, ic='loo')\n",
    "print(compare_model_3_4_fit1)\n",
    "\n",
    "plt.figure()\n",
    "az.plot_compare(compare_model_3_4_fit1)\n",
    "plt.title(\"Loo for code_1\")"
   ]
  },
  {
   "cell_type": "code",
   "execution_count": 19,
   "metadata": {},
   "outputs": [
    {
     "name": "stdout",
     "output_type": "stream",
     "text": [
      "               rank         waic     p_waic      d_waic        weight  \\\n",
      "student model     0 -1481.332718   4.602900    0.000000  1.000000e+00   \n",
      "normal model      1 -1816.643956  32.572347  335.311238  2.890488e-11   \n",
      "\n",
      "                       se        dse  warning waic_scale  \n",
      "student model   34.897756    0.00000     True        log  \n",
      "normal model   130.224291  106.31446     True        log  \n"
     ]
    },
    {
     "name": "stderr",
     "output_type": "stream",
     "text": [
      "/usr/local/lib/python3.9/site-packages/arviz/stats/stats.py:1635: UserWarning: For one or more samples the posterior variance of the log predictive densities exceeds 0.4. This could be indication of WAIC starting to fail. \n",
      "See http://arxiv.org/abs/1507.04544 for details\n",
      "  warnings.warn(\n",
      "/usr/local/lib/python3.9/site-packages/arviz/stats/stats.py:1635: UserWarning: For one or more samples the posterior variance of the log predictive densities exceeds 0.4. This could be indication of WAIC starting to fail. \n",
      "See http://arxiv.org/abs/1507.04544 for details\n",
      "  warnings.warn(\n"
     ]
    },
    {
     "data": {
      "text/plain": [
       "Text(0.5, 1.0, 'Waic for code_1')"
      ]
     },
     "execution_count": 19,
     "metadata": {},
     "output_type": "execute_result"
    },
    {
     "data": {
      "text/plain": [
       "<Figure size 432x288 with 0 Axes>"
      ]
     },
     "metadata": {},
     "output_type": "display_data"
    },
    {
     "data": {
      "image/png": "[encoded data removed]",
      "text/plain": [
       "<Figure size 432x144 with 1 Axes>"
      ]
     },
     "metadata": {
      "needs_background": "light"
     },
     "output_type": "display_data"
    }
   ],
   "source": [
    "compare_model_3_4_fit1=az.compare({\"normal model\":InferenceData3_fit1,\"student model\":InferenceData4_fit1}, ic='waic')\n",
    "print(compare_model_3_4_fit1)\n",
    "\n",
    "plt.figure()\n",
    "az.plot_compare(compare_model_3_4_fit1)\n",
    "plt.title(\"Waic for code_1\")"
   ]
  },
  {
   "attachments": {},
   "cell_type": "markdown",
   "metadata": {},
   "source": [
    "### Exercise 3 - compare models with different number of predictors"
   ]
  },
  {
   "cell_type": "code",
   "execution_count": 20,
   "metadata": {},
   "outputs": [
    {
     "data": {
      "text/html": [
       "<div>\n",
       "<style scoped>\n",
       "    .dataframe tbody tr th:only-of-type {\n",
       "        vertical-align: middle;\n",
       "    }\n",
       "\n",
       "    .dataframe tbody tr th {\n",
       "        vertical-align: top;\n",
       "    }\n",
       "\n",
       "    .dataframe thead th {\n",
       "        text-align: right;\n",
       "    }\n",
       "</style>\n",
       "<table border=\"1\" class=\"dataframe\">\n",
       "  <thead>\n",
       "    <tr style=\"text-align: right;\">\n",
       "      <th></th>\n",
       "      <th>lp__</th>\n",
       "      <th>accept_stat__</th>\n",
       "      <th>X[1,1]</th>\n",
       "      <th>X[2,1]</th>\n",
       "      <th>X[3,1]</th>\n",
       "      <th>X[4,1]</th>\n",
       "      <th>X[5,1]</th>\n",
       "      <th>X[6,1]</th>\n",
       "      <th>X[7,1]</th>\n",
       "      <th>X[8,1]</th>\n",
       "      <th>...</th>\n",
       "      <th>y[991]</th>\n",
       "      <th>y[992]</th>\n",
       "      <th>y[993]</th>\n",
       "      <th>y[994]</th>\n",
       "      <th>y[995]</th>\n",
       "      <th>y[996]</th>\n",
       "      <th>y[997]</th>\n",
       "      <th>y[998]</th>\n",
       "      <th>y[999]</th>\n",
       "      <th>y[1000]</th>\n",
       "    </tr>\n",
       "  </thead>\n",
       "  <tbody>\n",
       "    <tr>\n",
       "      <th>0</th>\n",
       "      <td>0.0</td>\n",
       "      <td>0.0</td>\n",
       "      <td>2.708170</td>\n",
       "      <td>0.777181</td>\n",
       "      <td>-1.272270</td>\n",
       "      <td>0.127591</td>\n",
       "      <td>-1.389420</td>\n",
       "      <td>0.246162</td>\n",
       "      <td>1.198730</td>\n",
       "      <td>2.265330</td>\n",
       "      <td>...</td>\n",
       "      <td>2.434840</td>\n",
       "      <td>-1.690430</td>\n",
       "      <td>-1.11724</td>\n",
       "      <td>1.018020</td>\n",
       "      <td>-3.209390</td>\n",
       "      <td>0.647371</td>\n",
       "      <td>-1.979340</td>\n",
       "      <td>-0.181075</td>\n",
       "      <td>-3.39436</td>\n",
       "      <td>-0.348991</td>\n",
       "    </tr>\n",
       "    <tr>\n",
       "      <th>1</th>\n",
       "      <td>0.0</td>\n",
       "      <td>0.0</td>\n",
       "      <td>1.719960</td>\n",
       "      <td>-1.233320</td>\n",
       "      <td>-2.029110</td>\n",
       "      <td>-0.255109</td>\n",
       "      <td>-0.254564</td>\n",
       "      <td>-0.802033</td>\n",
       "      <td>-1.179080</td>\n",
       "      <td>0.642103</td>\n",
       "      <td>...</td>\n",
       "      <td>0.281867</td>\n",
       "      <td>-0.194551</td>\n",
       "      <td>-0.04624</td>\n",
       "      <td>0.257383</td>\n",
       "      <td>0.052754</td>\n",
       "      <td>1.265270</td>\n",
       "      <td>1.353620</td>\n",
       "      <td>-1.023080</td>\n",
       "      <td>1.81499</td>\n",
       "      <td>0.723555</td>\n",
       "    </tr>\n",
       "    <tr>\n",
       "      <th>2</th>\n",
       "      <td>0.0</td>\n",
       "      <td>0.0</td>\n",
       "      <td>-0.178648</td>\n",
       "      <td>-1.562320</td>\n",
       "      <td>0.018253</td>\n",
       "      <td>1.255490</td>\n",
       "      <td>-1.255040</td>\n",
       "      <td>1.439220</td>\n",
       "      <td>1.067550</td>\n",
       "      <td>2.428280</td>\n",
       "      <td>...</td>\n",
       "      <td>0.553336</td>\n",
       "      <td>4.579340</td>\n",
       "      <td>2.01411</td>\n",
       "      <td>2.175650</td>\n",
       "      <td>0.476137</td>\n",
       "      <td>-1.573090</td>\n",
       "      <td>1.990880</td>\n",
       "      <td>4.495600</td>\n",
       "      <td>-4.44428</td>\n",
       "      <td>-1.622950</td>\n",
       "    </tr>\n",
       "    <tr>\n",
       "      <th>3</th>\n",
       "      <td>0.0</td>\n",
       "      <td>0.0</td>\n",
       "      <td>0.452558</td>\n",
       "      <td>1.807660</td>\n",
       "      <td>-0.188759</td>\n",
       "      <td>-0.604655</td>\n",
       "      <td>-1.631600</td>\n",
       "      <td>0.876941</td>\n",
       "      <td>0.609006</td>\n",
       "      <td>-0.685728</td>\n",
       "      <td>...</td>\n",
       "      <td>-0.266918</td>\n",
       "      <td>1.815600</td>\n",
       "      <td>4.78667</td>\n",
       "      <td>3.541330</td>\n",
       "      <td>0.954445</td>\n",
       "      <td>7.538290</td>\n",
       "      <td>2.084000</td>\n",
       "      <td>0.801006</td>\n",
       "      <td>-3.43066</td>\n",
       "      <td>2.458280</td>\n",
       "    </tr>\n",
       "    <tr>\n",
       "      <th>4</th>\n",
       "      <td>0.0</td>\n",
       "      <td>0.0</td>\n",
       "      <td>-1.007140</td>\n",
       "      <td>-0.545801</td>\n",
       "      <td>-0.663748</td>\n",
       "      <td>-1.084900</td>\n",
       "      <td>-1.741290</td>\n",
       "      <td>-0.621120</td>\n",
       "      <td>-2.058940</td>\n",
       "      <td>0.671296</td>\n",
       "      <td>...</td>\n",
       "      <td>0.494235</td>\n",
       "      <td>0.732109</td>\n",
       "      <td>-1.87848</td>\n",
       "      <td>0.970899</td>\n",
       "      <td>-4.988100</td>\n",
       "      <td>-4.434610</td>\n",
       "      <td>0.059459</td>\n",
       "      <td>-3.672500</td>\n",
       "      <td>3.42084</td>\n",
       "      <td>-0.928078</td>\n",
       "    </tr>\n",
       "  </tbody>\n",
       "</table>\n",
       "<p>5 rows × 4005 columns</p>\n",
       "</div>"
      ],
      "text/plain": [
       "   lp__  accept_stat__    X[1,1]    X[2,1]    X[3,1]    X[4,1]    X[5,1]  \\\n",
       "0   0.0            0.0  2.708170  0.777181 -1.272270  0.127591 -1.389420   \n",
       "1   0.0            0.0  1.719960 -1.233320 -2.029110 -0.255109 -0.254564   \n",
       "2   0.0            0.0 -0.178648 -1.562320  0.018253  1.255490 -1.255040   \n",
       "3   0.0            0.0  0.452558  1.807660 -0.188759 -0.604655 -1.631600   \n",
       "4   0.0            0.0 -1.007140 -0.545801 -0.663748 -1.084900 -1.741290   \n",
       "\n",
       "     X[6,1]    X[7,1]    X[8,1]  ...    y[991]    y[992]   y[993]    y[994]  \\\n",
       "0  0.246162  1.198730  2.265330  ...  2.434840 -1.690430 -1.11724  1.018020   \n",
       "1 -0.802033 -1.179080  0.642103  ...  0.281867 -0.194551 -0.04624  0.257383   \n",
       "2  1.439220  1.067550  2.428280  ...  0.553336  4.579340  2.01411  2.175650   \n",
       "3  0.876941  0.609006 -0.685728  ... -0.266918  1.815600  4.78667  3.541330   \n",
       "4 -0.621120 -2.058940  0.671296  ...  0.494235  0.732109 -1.87848  0.970899   \n",
       "\n",
       "     y[995]    y[996]    y[997]    y[998]   y[999]   y[1000]  \n",
       "0 -3.209390  0.647371 -1.979340 -0.181075 -3.39436 -0.348991  \n",
       "1  0.052754  1.265270  1.353620 -1.023080  1.81499  0.723555  \n",
       "2  0.476137 -1.573090  1.990880  4.495600 -4.44428 -1.622950  \n",
       "3  0.954445  7.538290  2.084000  0.801006 -3.43066  2.458280  \n",
       "4 -4.988100 -4.434610  0.059459 -3.672500  3.42084 -0.928078  \n",
       "\n",
       "[5 rows x 4005 columns]"
      ]
     },
     "execution_count": 20,
     "metadata": {},
     "output_type": "execute_result"
    }
   ],
   "source": [
    "data2_df.head()"
   ]
  },
  {
   "cell_type": "code",
   "execution_count": 21,
   "metadata": {},
   "outputs": [
    {
     "name": "stderr",
     "output_type": "stream",
     "text": [
      "INFO:cmdstanpy:found newer exe file, not recompiling\n",
      "INFO:cmdstanpy:CmdStan start processing\n",
      "chain 1 |\u001b[33m          \u001b[0m| 00:00 Status\n",
      "\u001b[A\n",
      "\n",
      "chain 1 |\u001b[33m▉         \u001b[0m| 00:00 Iteration:    1 / 2000 [  0%]  (Warmup)\n",
      "\u001b[A\n",
      "\n",
      "\u001b[A\u001b[A\n",
      "\u001b[A\n",
      "\n",
      "chain 1 |\u001b[33m███▏      \u001b[0m| 00:00 Iteration:  500 / 2000 [ 25%]  (Warmup)\n",
      "\n",
      "\u001b[A\u001b[A\n",
      "chain 1 |\u001b[34m█████▉    \u001b[0m| 00:00 Iteration: 1001 / 2000 [ 50%]  (Sampling)\n",
      "\n",
      "\u001b[A\u001b[A\n",
      "chain 1 |\u001b[34m███████▎  \u001b[0m| 00:01 Iteration: 1300 / 2000 [ 65%]  (Sampling)\n",
      "\u001b[A\n",
      "\n",
      "chain 1 |\u001b[34m████████▏ \u001b[0m| 00:01 Iteration: 1500 / 2000 [ 75%]  (Sampling)\n",
      "\n",
      "\u001b[A\u001b[A\n",
      "chain 1 |\u001b[34m█████████ \u001b[0m| 00:02 Iteration: 1700 / 2000 [ 85%]  (Sampling)\n",
      "\n",
      "chain 1 |\u001b[34m█████████▌\u001b[0m| 00:02 Iteration: 1800 / 2000 [ 90%]  (Sampling)\n",
      "chain 1 |\u001b[34m██████████\u001b[0m| 00:02 Sampling completed                       \n",
      "chain 2 |\u001b[34m██████████\u001b[0m| 00:02 Sampling completed                       \n",
      "chain 3 |\u001b[34m██████████\u001b[0m| 00:02 Sampling completed                       \n",
      "chain 4 |\u001b[34m██████████\u001b[0m| 00:02 Sampling completed                       "
     ]
    },
    {
     "name": "stdout",
     "output_type": "stream",
     "text": [
      "                                                                                                                                                                                                                                                                                                                                "
     ]
    },
    {
     "name": "stderr",
     "output_type": "stream",
     "text": [
      "\n",
      "INFO:cmdstanpy:CmdStan done processing.\n"
     ]
    },
    {
     "name": "stdout",
     "output_type": "stream",
     "text": [
      "\n"
     ]
    },
    {
     "name": "stderr",
     "output_type": "stream",
     "text": [
      "INFO:cmdstanpy:CmdStan start processing\n",
      "chain 1 |\u001b[33m          \u001b[0m| 00:00 Status\n",
      "\u001b[A\n",
      "\n",
      "chain 1 |\u001b[33m▉         \u001b[0m| 00:00 Iteration:    1 / 2000 [  0%]  (Warmup)\n",
      "\u001b[A\n",
      "\n",
      "chain 1 |\u001b[33m███▏      \u001b[0m| 00:00 Iteration:  500 / 2000 [ 25%]  (Warmup)\n",
      "\u001b[A\n",
      "\n",
      "\u001b[A\u001b[A\n",
      "chain 1 |\u001b[34m█████▉    \u001b[0m| 00:00 Iteration: 1001 / 2000 [ 50%]  (Sampling)\n",
      "\n",
      "chain 1 |\u001b[34m███████▎  \u001b[0m| 00:01 Iteration: 1300 / 2000 [ 65%]  (Sampling)\n",
      "\u001b[A\n",
      "\n",
      "chain 1 |\u001b[34m████████▏ \u001b[0m| 00:01 Iteration: 1500 / 2000 [ 75%]  (Sampling)\n",
      "\n",
      "\u001b[A\u001b[A\n",
      "chain 1 |\u001b[34m█████████ \u001b[0m| 00:02 Iteration: 1700 / 2000 [ 85%]  (Sampling)\n",
      "\u001b[A\n",
      "\n",
      "chain 1 |\u001b[34m██████████\u001b[0m| 00:02 Iteration: 1900 / 2000 [ 95%]  (Sampling)\n",
      "\n",
      "chain 1 |\u001b[34m██████████\u001b[0m| 00:02 Sampling completed                       \n",
      "chain 2 |\u001b[34m██████████\u001b[0m| 00:02 Sampling completed                       \n",
      "chain 3 |\u001b[34m██████████\u001b[0m| 00:02 Sampling completed                       \n",
      "chain 4 |\u001b[34m██████████\u001b[0m| 00:02 Sampling completed                       "
     ]
    },
    {
     "name": "stdout",
     "output_type": "stream",
     "text": [
      "                                                                                                                                                                                                                                                                                                                                "
     ]
    },
    {
     "name": "stderr",
     "output_type": "stream",
     "text": [
      "\n",
      "INFO:cmdstanpy:CmdStan done processing.\n"
     ]
    },
    {
     "name": "stdout",
     "output_type": "stream",
     "text": [
      "\n"
     ]
    },
    {
     "name": "stderr",
     "output_type": "stream",
     "text": [
      "INFO:cmdstanpy:CmdStan start processing\n",
      "chain 1 |\u001b[33m          \u001b[0m| 00:00 Status\n",
      "\u001b[A\n",
      "\n",
      "chain 1 |\u001b[33m▉         \u001b[0m| 00:00 Iteration:    1 / 2000 [  0%]  (Warmup)\n",
      "\u001b[A\n",
      "\n",
      "\u001b[A\u001b[A\n",
      "chain 1 |\u001b[33m███▏      \u001b[0m| 00:00 Iteration:  500 / 2000 [ 25%]  (Warmup)\n",
      "\n",
      "chain 1 |\u001b[33m█████     \u001b[0m| 00:00 Iteration:  900 / 2000 [ 45%]  (Warmup)\n",
      "\u001b[A\n",
      "\n",
      "chain 1 |\u001b[34m██████▊   \u001b[0m| 00:01 Iteration: 1200 / 2000 [ 60%]  (Sampling)\n",
      "\u001b[A\n",
      "\n",
      "\u001b[A\u001b[A\n",
      "\n",
      "chain 1 |\u001b[34m████████▏ \u001b[0m| 00:01 Iteration: 1500 / 2000 [ 75%]  (Sampling)\n",
      "\u001b[A\n",
      "\n",
      "chain 1 |\u001b[34m█████████ \u001b[0m| 00:02 Iteration: 1700 / 2000 [ 85%]  (Sampling)\n",
      "\u001b[A\n",
      "\n",
      "chain 1 |\u001b[34m██████████\u001b[0m| 00:02 Iteration: 1900 / 2000 [ 95%]  (Sampling)\n",
      "chain 1 |\u001b[34m██████████\u001b[0m| 00:02 Sampling completed                       \n",
      "chain 2 |\u001b[34m██████████\u001b[0m| 00:02 Sampling completed                       \n",
      "chain 3 |\u001b[34m██████████\u001b[0m| 00:02 Sampling completed                       \n",
      "chain 4 |\u001b[34m██████████\u001b[0m| 00:02 Sampling completed                       "
     ]
    },
    {
     "name": "stdout",
     "output_type": "stream",
     "text": [
      "                                                                                                                                                                                                                                                                                                                                "
     ]
    },
    {
     "name": "stderr",
     "output_type": "stream",
     "text": [
      "\n",
      "INFO:cmdstanpy:CmdStan done processing.\n"
     ]
    },
    {
     "name": "stdout",
     "output_type": "stream",
     "text": [
      "\n"
     ]
    }
   ],
   "source": [
    "model_5=CmdStanModel(stan_file='code_5.stan')\n",
    "num_of_preds = [1, 2, 3]\n",
    "pred_code5 = []\n",
    "\n",
    "for num_of_pred in num_of_preds:\n",
    "    y_data2 = data2_df.loc[:, 'y[1]':f'y[{N}]'].values[0, :]\n",
    "    X_data2 = data2_df.loc[:, 'X[1,1]':f'X[{N},{num_of_pred}]'].values[0, :].reshape((N, num_of_pred))\n",
    "    data2_fit2 = dict(N=N, K=num_of_pred, y=y_data2, X=X_data2)\n",
    "\n",
    "    pred=model_5.sample(data=data2_fit2,\n",
    "                        seed=29042020)\n",
    "    pred_code5.append(pred)"
   ]
  },
  {
   "cell_type": "code",
   "execution_count": 22,
   "metadata": {},
   "outputs": [],
   "source": [
    "models_to_compare = {f\"Predictors = {num_of_pred}\" : az.from_cmdstanpy(posterior=pred_code5[i]) for i, num_of_pred in enumerate(num_of_preds)}"
   ]
  },
  {
   "cell_type": "code",
   "execution_count": 23,
   "metadata": {},
   "outputs": [
    {
     "name": "stdout",
     "output_type": "stream",
     "text": [
      "                rank          loo     p_loo       d_loo        weight  \\\n",
      "Predictors = 1     0 -1817.413522  2.087206    0.000000  1.000000e+00   \n",
      "Predictors = 2     1 -2351.862350  2.908067  534.448828  2.968657e-15   \n",
      "Predictors = 3     2 -2352.660514  3.841749  535.246992  0.000000e+00   \n",
      "\n",
      "                       se        dse  warning loo_scale  \n",
      "Predictors = 1  22.740188   0.000000    False       log  \n",
      "Predictors = 2  21.888502  25.516854    False       log  \n",
      "Predictors = 3  21.850000  25.498191    False       log  \n"
     ]
    },
    {
     "data": {
      "text/plain": [
       "Text(0.5, 1.0, 'Loo for code_5')"
      ]
     },
     "execution_count": 23,
     "metadata": {},
     "output_type": "execute_result"
    },
    {
     "data": {
      "text/plain": [
       "<Figure size 432x288 with 0 Axes>"
      ]
     },
     "metadata": {},
     "output_type": "display_data"
    },
    {
     "data": {
      "image/png": "[encoded data removed]",
      "text/plain": [
       "<Figure size 432x216 with 1 Axes>"
      ]
     },
     "metadata": {
      "needs_background": "light"
     },
     "output_type": "display_data"
    }
   ],
   "source": [
    "compare_model_5_fit2=az.compare(models_to_compare, ic='loo')\n",
    "print(compare_model_5_fit2)\n",
    "\n",
    "plt.figure()\n",
    "az.plot_compare(compare_model_5_fit2)\n",
    "plt.title(\"Loo for code_5\")"
   ]
  },
  {
   "cell_type": "code",
   "execution_count": 24,
   "metadata": {},
   "outputs": [
    {
     "name": "stdout",
     "output_type": "stream",
     "text": [
      "                rank         waic    p_waic      d_waic        weight  \\\n",
      "Predictors = 1     0 -1817.413533  2.087217    0.000000  1.000000e+00   \n",
      "Predictors = 2     1 -2351.862401  2.908118  534.448868  0.000000e+00   \n",
      "Predictors = 3     2 -2352.660331  3.841566  535.246798  1.998401e-15   \n",
      "\n",
      "                       se        dse  warning waic_scale  \n",
      "Predictors = 1  22.740193   0.000000    False        log  \n",
      "Predictors = 2  21.888523  25.516864    False        log  \n",
      "Predictors = 3  21.849990  25.498183    False        log  \n"
     ]
    },
    {
     "data": {
      "text/plain": [
       "Text(0.5, 1.0, 'Waic for code_5')"
      ]
     },
     "execution_count": 24,
     "metadata": {},
     "output_type": "execute_result"
    },
    {
     "data": {
      "text/plain": [
       "<Figure size 432x288 with 0 Axes>"
      ]
     },
     "metadata": {},
     "output_type": "display_data"
    },
    {
     "data": {
      "image/png": "[encoded data removed]",
      "text/plain": [
       "<Figure size 432x216 with 1 Axes>"
      ]
     },
     "metadata": {
      "needs_background": "light"
     },
     "output_type": "display_data"
    }
   ],
   "source": [
    "compare_model_5_fit2=az.compare(models_to_compare, ic='waic')\n",
    "print(compare_model_5_fit2)\n",
    "\n",
    "plt.figure()\n",
    "az.plot_compare(compare_model_5_fit2)\n",
    "plt.title(\"Waic for code_5\")"
   ]
  },
  {
   "cell_type": "code",
   "execution_count": null,
   "metadata": {},
   "outputs": [],
   "source": []
  }
 ],
 "metadata": {
  "kernelspec": {
   "display_name": "Python 3",
   "language": "python",
   "name": "python3"
  },
  "language_info": {
   "codemirror_mode": {
    "name": "ipython",
    "version": 3
   },
   "file_extension": ".py",
   "mimetype": "text/x-python",
   "name": "python",
   "nbconvert_exporter": "python",
   "pygments_lexer": "ipython3",
   "version": "3.9.11"
  },
  "orig_nbformat": 4
 },
 "nbformat": 4,
 "nbformat_minor": 2
}
